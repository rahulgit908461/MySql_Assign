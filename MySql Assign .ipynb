{
 "cells": [
  {
   "cell_type": "code",
   "execution_count": 1,
   "id": "77f9590a-a78c-47f8-a714-cf59c3042237",
   "metadata": {},
   "outputs": [],
   "source": [
    "#Q1. What is a database? Differentiate between SQL and NoSQL databases."
   ]
  },
  {
   "cell_type": "code",
   "execution_count": 2,
   "id": "f9130a5a-8f3c-43fe-9d08-f8d29918fc99",
   "metadata": {},
   "outputs": [],
   "source": [
    "#A database is an organized collection of structured information, or\n",
    "#data, typically stored electronically in a computer system. \n",
    "#A database is usually controlled by a database management system \n",
    "#(DBMS).\n",
    "\n",
    "#SQL databases are vertically scalable, while NoSQL databases are \n",
    "#horizontally scalable. SQL databases are table-based, while NoSQL \n",
    "#databases are document, key-value, graph, or wide-column stores. SQL\n",
    "#databases are better for multi-row transactions, while NoSQL is \n",
    "#better for unstructured data like documents or JSON."
   ]
  },
  {
   "cell_type": "code",
   "execution_count": 3,
   "id": "1c9bd793-65ae-42d6-8eb3-0948ff8fab49",
   "metadata": {},
   "outputs": [],
   "source": [
    "#Q2. What is DDL? Explain why CREATE, DROP, ALTER, and TRUNCATE are\n",
    "#used with an example."
   ]
  },
  {
   "cell_type": "code",
   "execution_count": 4,
   "id": "0c3fb429-8533-4667-9d69-ebf657c20bcd",
   "metadata": {},
   "outputs": [],
   "source": [
    "#A data definition language (DDL) is a computer language used to \n",
    "#create and modify the structure of database objects in a database. \n",
    "\n",
    "#CREATE TABLE table_name ( column1 datatype, column2 datatype,\n",
    "#ExampleGet your own SQL Server. CREATE TABLE Persons \n",
    "#( Persion id......\n",
    "#CREATE TABLE new_table_name AS. SELECT column1, column2,... FROM \n",
    "#existing_table_name. ...\n",
    "#Example. CREATE TABLE TestTable AS. SELECT customername, contactname.\n",
    "\n",
    "#SQL not only deletes a table but also deletes other entities such as \n",
    "#database, column, index, constraint, etc. For example, the DROP \n",
    "#COLUMN command deletes the specified column from the table, and the \n",
    "#DROP DATABASE command deletes the specified database and all of its \n",
    "#information.\n",
    "\n",
    "#The ALTER TABLE statement is used to add, delete, or modify columns \n",
    "#in an existing table.The ALTER TABLE statement is also used to add \n",
    "#and drop various constraints on an existing table.\n",
    "\n",
    "#To delete all the data, the SQL Truncate command locks the table and\n",
    "#page. The truncate command does not add entries to the transaction \n",
    "#log for each deleted row."
   ]
  },
  {
   "cell_type": "code",
   "execution_count": 5,
   "id": "9c22fb6b-401f-4ca3-98a1-9720a3b0ef22",
   "metadata": {},
   "outputs": [],
   "source": [
    "#Q3. What is DML? Explain INSERT, UPDATE, and DELETE with an example."
   ]
  },
  {
   "cell_type": "code",
   "execution_count": 6,
   "id": "01c444ec-7fa7-4b2b-8794-7520fb13f742",
   "metadata": {},
   "outputs": [],
   "source": [
    "#DML is an abbreviation for Data Manipulation Language. Represents a\n",
    "#collection of programming languages explicitly used to make changes \n",
    "#to the database, such as: CRUD operations to create, read, update and\n",
    "#delete data. Using INSERT, SELECT, UPDATE, and DELETE commands.\n",
    "\n",
    "#INSERT , UPDATE , and DELETE are all functions in SQL that help you \n",
    "#ensure your data is up-to-date and kept clear of unnecessary or \n",
    "#outdated information. INSERT , UPDATE , and DELETE , as well as \n",
    "#SELECT and MERGE, are known as Data Manipulation Language (DML) \n",
    "#statements, which let SQL users view and manage data."
   ]
  },
  {
   "cell_type": "code",
   "execution_count": 7,
   "id": "265336e8-45e9-4f35-8567-f88f3a234ee5",
   "metadata": {},
   "outputs": [],
   "source": [
    "#Q4. What is DQL? Explain SELECT with an example."
   ]
  },
  {
   "cell_type": "code",
   "execution_count": 8,
   "id": "20716593-f7f7-476a-bc20-2da449c581cb",
   "metadata": {},
   "outputs": [],
   "source": [
    "#Query languages, often known as DQLs or Data Query Languages, are \n",
    "#computer languages that are used to make various queries in \n",
    "#information systems and databases. The Structured Query Language \n",
    "#(SQL) is a well-known example. DQL statements are used to query the\n",
    "#data contained in schema objects."
   ]
  },
  {
   "cell_type": "code",
   "execution_count": 9,
   "id": "77a9229a-ea13-4f3e-a85d-bce452945696",
   "metadata": {},
   "outputs": [],
   "source": [
    "#Q5. Explain Primary Key and Foreign Key."
   ]
  },
  {
   "cell_type": "code",
   "execution_count": 10,
   "id": "c3c63946-13c7-439c-bf86-6a6af44e0004",
   "metadata": {},
   "outputs": [],
   "source": [
    "#A primary key generally focuses on the uniqueness of the table. \n",
    "#It assures the value in the specific column is unique. A foreign key \n",
    "#is generally used to build a relationship between the two tables. \n",
    "#The table allows only one primary key."
   ]
  },
  {
   "cell_type": "code",
   "execution_count": 11,
   "id": "8ad16460-7cd3-48ed-a7b8-3d1321db21a7",
   "metadata": {},
   "outputs": [],
   "source": [
    "#Q6. Write a python code to connect MySQL to python. Explain the \n",
    "#cursor() and execute() method."
   ]
  },
  {
   "cell_type": "code",
   "execution_count": 12,
   "id": "7efea0a4-1986-4df1-9198-1056ad1af5c3",
   "metadata": {},
   "outputs": [],
   "source": [
    "# using the cursor() method of the Connection object/class.\n",
    "#Drag the MySQL - Execute a query action to the point in the workflow\n",
    "#when you want to run a query."
   ]
  },
  {
   "cell_type": "code",
   "execution_count": 13,
   "id": "87386fe2-1fee-4bd5-a477-41468c283998",
   "metadata": {},
   "outputs": [],
   "source": [
    "#Q7. Give the order of execution of SQL clauses in an SQL query."
   ]
  },
  {
   "cell_type": "code",
   "execution_count": 14,
   "id": "44c601ec-bbc9-4a42-ba54-051fa06cb43f",
   "metadata": {},
   "outputs": [],
   "source": [
    "#1\tFROM\tTables are joined to get the base data.\n",
    "#2\tWHERE\tThe base data is filtered.\n",
    "#3\tGROUP BY\tThe filtered base data is grouped.\n",
    "#4\tHAVING\tThe grouped base data is filtered."
   ]
  },
  {
   "cell_type": "code",
   "execution_count": null,
   "id": "038532c3-d777-4e83-b461-e6ad67d534d3",
   "metadata": {},
   "outputs": [],
   "source": []
  }
 ],
 "metadata": {
  "kernelspec": {
   "display_name": "Python 3 (ipykernel)",
   "language": "python",
   "name": "python3"
  },
  "language_info": {
   "codemirror_mode": {
    "name": "ipython",
    "version": 3
   },
   "file_extension": ".py",
   "mimetype": "text/x-python",
   "name": "python",
   "nbconvert_exporter": "python",
   "pygments_lexer": "ipython3",
   "version": "3.10.8"
  }
 },
 "nbformat": 4,
 "nbformat_minor": 5
}
